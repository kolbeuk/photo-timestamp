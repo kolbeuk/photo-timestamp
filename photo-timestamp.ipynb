{
 "cells": [
  {
   "cell_type": "code",
   "execution_count": null,
   "metadata": {},
   "outputs": [],
   "source": [
    "from PIL import Image, ImageDraw, ImageFont, ExifTags\n",
    "from datetime import datetime\n",
    "import os"
   ]
  },
  {
   "cell_type": "code",
   "execution_count": null,
   "metadata": {},
   "outputs": [],
   "source": [
    "def get_exif_datetime(image_path):\n",
    "    # Open the image\n",
    "    with Image.open(image_path) as img:\n",
    "        # Get EXIF data\n",
    "        exif = img._getexif()\n",
    "\n",
    "        if not exif:\n",
    "            return None\n",
    "\n",
    "        # Iterate through EXIF data and find the date and time\n",
    "        for tag, value in exif.items():\n",
    "            decoded_tag = ExifTags.TAGS.get(tag, tag)\n",
    "            if decoded_tag == 'DateTimeOriginal':\n",
    "                return value\n",
    "\n",
    "    return None"
   ]
  },
  {
   "cell_type": "code",
   "execution_count": null,
   "metadata": {},
   "outputs": [],
   "source": [
    "def add_timestamp(image_path, output_path):\n",
    "    # Get the date and time from EXIF data\n",
    "    exif_datetime = get_exif_datetime(image_path)\n",
    "\n",
    "    if not exif_datetime:\n",
    "        print(\"EXIF date/time not found in image. Using current date/time instead.\")\n",
    "        from datetime import datetime\n",
    "        exif_datetime = datetime.now().strftime('%Y-%m-%d %H:%M:%S')\n",
    "\n",
    "    # Load the image\n",
    "    image = Image.open(image_path)\n",
    "\n",
    "    # Prepare to draw on the image\n",
    "    draw = ImageDraw.Draw(image)\n",
    "\n",
    "    # Specify a font size\n",
    "    try:\n",
    "        # Update with the path to your .ttf file and desired size\n",
    "        font = ImageFont.truetype('/System/Library/Fonts/Supplemental/Courier New.ttf', size=100)\n",
    "    except IOError:\n",
    "        # Fallback to default font if .ttf file is not available\n",
    "        font = ImageFont.load_default()\n",
    "\n",
    "    # Define the color (yellow in this case)\n",
    "    color = 'yellow'\n",
    "\n",
    "    # Position for the timestamp (bottom right corner)\n",
    "    text_position = (image.width - 1800, image.height - 200)\n",
    "\n",
    "    # Add the EXIF date/time to the image\n",
    "    draw.text(text_position, exif_datetime, fill=color, font=font)\n",
    "\n",
    "    # Save the new image\n",
    "    image.save(output_path)"
   ]
  },
  {
   "cell_type": "code",
   "execution_count": null,
   "metadata": {},
   "outputs": [],
   "source": [
    "def add_timestamp_to_directory(input_directory):\n",
    "    for filename in os.listdir(input_directory):\n",
    "        # Check if the file is an image (e.g., ends with .jpg or .jpeg)\n",
    "        if filename.lower().endswith(('.jpg', '.jpeg')):\n",
    "            input_path = os.path.join(input_directory, filename)\n",
    "            # Create a new filename with \"_timestamp\" appended\n",
    "            name, ext = os.path.splitext(filename)\n",
    "            output_filename = f\"{name}_timestamp{ext}\"\n",
    "            output_path = os.path.join(input_directory, output_filename)\n",
    "\n",
    "            # Add timestamp to the image\n",
    "            add_timestamp(input_path, output_path)\n",
    "            print(f\"Processed {filename}\")"
   ]
  },
  {
   "cell_type": "code",
   "execution_count": null,
   "metadata": {},
   "outputs": [],
   "source": [
    "# Use the current working directory\n",
    "current_directory = os.getcwd()\n",
    "\n",
    "# Process all images in the current directory\n",
    "add_timestamp_to_directory(current_directory)"
   ]
  }
 ],
 "metadata": {
  "kernelspec": {
   "display_name": "Python 3",
   "language": "python",
   "name": "python3"
  },
  "language_info": {
   "codemirror_mode": {
    "name": "ipython",
    "version": 3
   },
   "file_extension": ".py",
   "mimetype": "text/x-python",
   "name": "python",
   "nbconvert_exporter": "python",
   "pygments_lexer": "ipython3",
   "version": "3.11.6"
  }
 },
 "nbformat": 4,
 "nbformat_minor": 2
}
